{
 "cells": [
  {
   "cell_type": "code",
   "execution_count": 4,
   "id": "235b2579-bd13-448d-88f7-994e1c09af47",
   "metadata": {
    "scrolled": true
   },
   "outputs": [
    {
     "name": "stdout",
     "output_type": "stream",
     "text": [
      "Requirement already satisfied: keybert in c:\\users\\mervy\\anaconda3\\envs\\keywordextractor\\lib\\site-packages (0.8.3)\n",
      "Requirement already satisfied: sentence-transformers>=0.3.8 in c:\\users\\mervy\\anaconda3\\envs\\keywordextractor\\lib\\site-packages (from keybert) (2.3.1)\n",
      "Requirement already satisfied: scikit-learn>=0.22.2 in c:\\users\\mervy\\anaconda3\\envs\\keywordextractor\\lib\\site-packages (from keybert) (1.4.0)\n",
      "Requirement already satisfied: numpy>=1.18.5 in c:\\users\\mervy\\anaconda3\\envs\\keywordextractor\\lib\\site-packages (from keybert) (1.26.3)\n",
      "Requirement already satisfied: rich>=10.4.0 in c:\\users\\mervy\\anaconda3\\envs\\keywordextractor\\lib\\site-packages (from keybert) (13.7.0)\n",
      "Requirement already satisfied: markdown-it-py>=2.2.0 in c:\\users\\mervy\\anaconda3\\envs\\keywordextractor\\lib\\site-packages (from rich>=10.4.0->keybert) (3.0.0)\n",
      "Requirement already satisfied: pygments<3.0.0,>=2.13.0 in c:\\users\\mervy\\anaconda3\\envs\\keywordextractor\\lib\\site-packages (from rich>=10.4.0->keybert) (2.15.1)\n",
      "Requirement already satisfied: scipy>=1.6.0 in c:\\users\\mervy\\anaconda3\\envs\\keywordextractor\\lib\\site-packages (from scikit-learn>=0.22.2->keybert) (1.12.0)\n",
      "Requirement already satisfied: joblib>=1.2.0 in c:\\users\\mervy\\anaconda3\\envs\\keywordextractor\\lib\\site-packages (from scikit-learn>=0.22.2->keybert) (1.3.2)\n",
      "Requirement already satisfied: threadpoolctl>=2.0.0 in c:\\users\\mervy\\anaconda3\\envs\\keywordextractor\\lib\\site-packages (from scikit-learn>=0.22.2->keybert) (3.2.0)\n",
      "Requirement already satisfied: transformers<5.0.0,>=4.32.0 in c:\\users\\mervy\\anaconda3\\envs\\keywordextractor\\lib\\site-packages (from sentence-transformers>=0.3.8->keybert) (4.37.2)\n",
      "Requirement already satisfied: tqdm in c:\\users\\mervy\\anaconda3\\envs\\keywordextractor\\lib\\site-packages (from sentence-transformers>=0.3.8->keybert) (4.66.1)\n",
      "Requirement already satisfied: torch>=1.11.0 in c:\\users\\mervy\\anaconda3\\envs\\keywordextractor\\lib\\site-packages (from sentence-transformers>=0.3.8->keybert) (2.2.0)\n",
      "Requirement already satisfied: nltk in c:\\users\\mervy\\anaconda3\\envs\\keywordextractor\\lib\\site-packages (from sentence-transformers>=0.3.8->keybert) (3.8.1)\n",
      "Requirement already satisfied: sentencepiece in c:\\users\\mervy\\anaconda3\\envs\\keywordextractor\\lib\\site-packages (from sentence-transformers>=0.3.8->keybert) (0.1.99)\n",
      "Requirement already satisfied: huggingface-hub>=0.15.1 in c:\\users\\mervy\\anaconda3\\envs\\keywordextractor\\lib\\site-packages (from sentence-transformers>=0.3.8->keybert) (0.20.3)\n",
      "Requirement already satisfied: Pillow in c:\\users\\mervy\\anaconda3\\envs\\keywordextractor\\lib\\site-packages (from sentence-transformers>=0.3.8->keybert) (10.2.0)\n",
      "Requirement already satisfied: filelock in c:\\users\\mervy\\anaconda3\\envs\\keywordextractor\\lib\\site-packages (from huggingface-hub>=0.15.1->sentence-transformers>=0.3.8->keybert) (3.13.1)\n",
      "Requirement already satisfied: fsspec>=2023.5.0 in c:\\users\\mervy\\anaconda3\\envs\\keywordextractor\\lib\\site-packages (from huggingface-hub>=0.15.1->sentence-transformers>=0.3.8->keybert) (2024.2.0)\n",
      "Requirement already satisfied: requests in c:\\users\\mervy\\anaconda3\\envs\\keywordextractor\\lib\\site-packages (from huggingface-hub>=0.15.1->sentence-transformers>=0.3.8->keybert) (2.31.0)\n",
      "Requirement already satisfied: pyyaml>=5.1 in c:\\users\\mervy\\anaconda3\\envs\\keywordextractor\\lib\\site-packages (from huggingface-hub>=0.15.1->sentence-transformers>=0.3.8->keybert) (6.0.1)\n",
      "Requirement already satisfied: typing-extensions>=3.7.4.3 in c:\\users\\mervy\\anaconda3\\envs\\keywordextractor\\lib\\site-packages (from huggingface-hub>=0.15.1->sentence-transformers>=0.3.8->keybert) (4.9.0)\n",
      "Requirement already satisfied: packaging>=20.9 in c:\\users\\mervy\\anaconda3\\envs\\keywordextractor\\lib\\site-packages (from huggingface-hub>=0.15.1->sentence-transformers>=0.3.8->keybert) (23.1)\n",
      "Requirement already satisfied: mdurl~=0.1 in c:\\users\\mervy\\anaconda3\\envs\\keywordextractor\\lib\\site-packages (from markdown-it-py>=2.2.0->rich>=10.4.0->keybert) (0.1.2)\n",
      "Requirement already satisfied: sympy in c:\\users\\mervy\\anaconda3\\envs\\keywordextractor\\lib\\site-packages (from torch>=1.11.0->sentence-transformers>=0.3.8->keybert) (1.12)\n",
      "Requirement already satisfied: networkx in c:\\users\\mervy\\anaconda3\\envs\\keywordextractor\\lib\\site-packages (from torch>=1.11.0->sentence-transformers>=0.3.8->keybert) (3.2.1)\n",
      "Requirement already satisfied: jinja2 in c:\\users\\mervy\\anaconda3\\envs\\keywordextractor\\lib\\site-packages (from torch>=1.11.0->sentence-transformers>=0.3.8->keybert) (3.1.3)\n",
      "Requirement already satisfied: colorama in c:\\users\\mervy\\anaconda3\\envs\\keywordextractor\\lib\\site-packages (from tqdm->sentence-transformers>=0.3.8->keybert) (0.4.6)\n",
      "Requirement already satisfied: regex!=2019.12.17 in c:\\users\\mervy\\anaconda3\\envs\\keywordextractor\\lib\\site-packages (from transformers<5.0.0,>=4.32.0->sentence-transformers>=0.3.8->keybert) (2023.12.25)\n",
      "Requirement already satisfied: tokenizers<0.19,>=0.14 in c:\\users\\mervy\\anaconda3\\envs\\keywordextractor\\lib\\site-packages (from transformers<5.0.0,>=4.32.0->sentence-transformers>=0.3.8->keybert) (0.15.1)\n",
      "Requirement already satisfied: safetensors>=0.4.1 in c:\\users\\mervy\\anaconda3\\envs\\keywordextractor\\lib\\site-packages (from transformers<5.0.0,>=4.32.0->sentence-transformers>=0.3.8->keybert) (0.4.2)\n",
      "Requirement already satisfied: click in c:\\users\\mervy\\anaconda3\\envs\\keywordextractor\\lib\\site-packages (from nltk->sentence-transformers>=0.3.8->keybert) (8.1.7)\n",
      "Requirement already satisfied: MarkupSafe>=2.0 in c:\\users\\mervy\\anaconda3\\envs\\keywordextractor\\lib\\site-packages (from jinja2->torch>=1.11.0->sentence-transformers>=0.3.8->keybert) (2.1.3)\n",
      "Requirement already satisfied: charset-normalizer<4,>=2 in c:\\users\\mervy\\anaconda3\\envs\\keywordextractor\\lib\\site-packages (from requests->huggingface-hub>=0.15.1->sentence-transformers>=0.3.8->keybert) (2.0.4)\n",
      "Requirement already satisfied: idna<4,>=2.5 in c:\\users\\mervy\\anaconda3\\envs\\keywordextractor\\lib\\site-packages (from requests->huggingface-hub>=0.15.1->sentence-transformers>=0.3.8->keybert) (3.4)\n",
      "Requirement already satisfied: urllib3<3,>=1.21.1 in c:\\users\\mervy\\anaconda3\\envs\\keywordextractor\\lib\\site-packages (from requests->huggingface-hub>=0.15.1->sentence-transformers>=0.3.8->keybert) (1.26.18)\n",
      "Requirement already satisfied: certifi>=2017.4.17 in c:\\users\\mervy\\anaconda3\\envs\\keywordextractor\\lib\\site-packages (from requests->huggingface-hub>=0.15.1->sentence-transformers>=0.3.8->keybert) (2023.11.17)\n",
      "Requirement already satisfied: mpmath>=0.19 in c:\\users\\mervy\\anaconda3\\envs\\keywordextractor\\lib\\site-packages (from sympy->torch>=1.11.0->sentence-transformers>=0.3.8->keybert) (1.3.0)\n",
      "Note: you may need to restart the kernel to use updated packages.\n"
     ]
    }
   ],
   "source": [
    "pip install keybert\n"
   ]
  },
  {
   "cell_type": "code",
   "execution_count": 5,
   "id": "e6657ec4-887a-48b8-8a69-b62e1b9662f4",
   "metadata": {
    "scrolled": true
   },
   "outputs": [
    {
     "name": "stdout",
     "output_type": "stream",
     "text": [
      "Requirement already satisfied: pdfreader in c:\\users\\mervy\\anaconda3\\envs\\keywordextractor\\lib\\site-packages (0.1.12)\n",
      "Requirement already satisfied: bitarray>=1.1.0 in c:\\users\\mervy\\anaconda3\\envs\\keywordextractor\\lib\\site-packages (from pdfreader) (2.9.2)\n",
      "Requirement already satisfied: pillow>=7.1.0 in c:\\users\\mervy\\anaconda3\\envs\\keywordextractor\\lib\\site-packages (from pdfreader) (10.2.0)\n",
      "Requirement already satisfied: pycryptodome>=3.9.9 in c:\\users\\mervy\\anaconda3\\envs\\keywordextractor\\lib\\site-packages (from pdfreader) (3.20.0)\n",
      "Requirement already satisfied: python-dateutil>=2.8.1 in c:\\users\\mervy\\anaconda3\\envs\\keywordextractor\\lib\\site-packages (from pdfreader) (2.8.2)\n",
      "Requirement already satisfied: six>=1.5 in c:\\users\\mervy\\anaconda3\\envs\\keywordextractor\\lib\\site-packages (from python-dateutil>=2.8.1->pdfreader) (1.16.0)\n",
      "Note: you may need to restart the kernel to use updated packages.\n"
     ]
    }
   ],
   "source": [
    "pip install pdfreader"
   ]
  },
  {
   "cell_type": "code",
   "execution_count": 1,
   "id": "27e3ac9c-b10d-4688-ac7b-452617a93618",
   "metadata": {},
   "outputs": [],
   "source": [
    "from keybert import KeyBERT"
   ]
  },
  {
   "cell_type": "code",
   "execution_count": 2,
   "id": "78b9f7e8-e52c-469a-8607-be6d268dd1b0",
   "metadata": {
    "scrolled": true
   },
   "outputs": [],
   "source": [
    "kw_model = KeyBERT(model='all-mpnet-base-v2')\n"
   ]
  },
  {
   "cell_type": "code",
   "execution_count": 3,
   "id": "d49cec50-fa39-4277-bcd5-0296f8a2e367",
   "metadata": {},
   "outputs": [],
   "source": [
    "#insert full_text declaration\n",
    "full_text=\"A Software Engineer is an IT professional who designs, develops and maintains computer software at a company. They use their creativity and technical skills and apply the principles of software engineering to help solve new and ongoing problems for an organization.\""
   ]
  },
  {
   "cell_type": "code",
   "execution_count": 13,
   "id": "e6cc6000-5fff-44cf-8036-f12c7d2dea94",
   "metadata": {},
   "outputs": [],
   "source": [
    "import pdfreader\n",
    "from pdfreader import PDFDocument, SimplePDFViewer\n",
    "fd = open('Regine Yap Resume 2024.pdf','rb')\n",
    "viewer = SimplePDFViewer(fd)"
   ]
  },
  {
   "cell_type": "code",
   "execution_count": 9,
   "id": "9653a84f-b864-46c3-b462-87cf4cc83f4d",
   "metadata": {},
   "outputs": [],
   "source": [
    "all_pages = [p for p in viewer.pages()]"
   ]
  },
  {
   "cell_type": "code",
   "execution_count": 10,
   "id": "d25bb3a2-9f34-42f2-bed9-9a40ea3b2231",
   "metadata": {},
   "outputs": [],
   "source": [
    "pagenum=len(all_pages)"
   ]
  },
  {
   "cell_type": "code",
   "execution_count": 14,
   "id": "2b611574-c4dc-4c97-9a04-e6a37a45ec6c",
   "metadata": {},
   "outputs": [],
   "source": [
    "texti=\"\"\n",
    "\n",
    "for canvas in viewer:\n",
    "    page_strings = canvas.strings\n",
    "    text=\"\".join(page_strings)\n",
    "    texti+=text"
   ]
  },
  {
   "cell_type": "code",
   "execution_count": null,
   "id": "8f8ca307-91f4-4912-a29b-1a3f20ac98b7",
   "metadata": {},
   "outputs": [],
   "source": []
  },
  {
   "cell_type": "code",
   "execution_count": null,
   "id": "98d3cebd-7973-4fe4-a5ac-7df2115e6d7d",
   "metadata": {},
   "outputs": [],
   "source": []
  },
  {
   "cell_type": "code",
   "execution_count": 15,
   "id": "ddebe291-5737-4048-a133-b3c9b681edb5",
   "metadata": {
    "scrolled": true
   },
   "outputs": [
    {
     "name": "stdout",
     "output_type": "stream",
     "text": [
      " Yap Hui Xin Regine (Singaporean) Mobile Phone: (+65) 8299 0831 / Email: regineyap1609@gmail.com EDUCATION  Nanyang Technological University (NTU)                                                                        Aug 2021 – Jun 2024 (Expected)  School of Electrical and Electronic Engineering  • Bachelor of Engineering (Information Engineering and Media) • Relevant Modules: (1) Introduction to Data Science and Artificial Intelligence [Python]  • (2) Object Oriented Programming (3) Data Structures and Algorithms (4) Microprocessor [ARM]   Nanyang Polytechnic (NYP)    Apr 2018 – Apr 2021 • Diploma in Multimedia and Infocomm Technology  • Specialization: Computer Networking • Relevant Modules: (1) Web Design Development (2) Open-Source Web Solutions Development  • (3) Software Engineering Practices (4) Infocomm Systems and Security (5) Internet Programming  • (6) Network Technology (7) Virtualization and Cloud Computing (8) Database Design and Implementation • (9) Router-based Network Design and Implementation (10) Broadband Access and Wide Area Networks    INTERNSHIP EXPERIENCE   Ministry of Home Affairs (MHA), Engineering Intern                                                                         Jan 2023 – Jul 2023 MHA Internship Project: Platform for Integrated Prototyping, Innovation & Research (2PiR) • Successfully collaborated with three team members to build innovation and research platform for quick development, prototyping and testing of new technologies and concepts. • Built intelligent AI Assistant to provide intuitive interface for users to interact and harness ChatGPT capabilities and developed functional prototype. • Assumed role as Main Developer for integrating frontend to backend using APIs. • Applied Python Programming with two frameworks (i.e., React, Flask) to design, code and develop webpage with functionalities intact through continuous testing of widgets and chatbot.  • Used VM Linux to bring application onto internal server. • Learned and explored various advanced and latest technologies to delve into specialized areas and domains of interest.   Ministry of Home Affairs, Disinformation Project Intern     May 2022 – Jul 2022 • MHA Internship Project: Development of Application for Detect Disinformation at Real Time. • Successfully co-operated with two team members to build intuitive interface for users to detect disinformation at real time. • Assumed role as Frontend In-Charge to apply 4 software languages (i.e., HTML, CSS, JavaScript, Jinjja) with framework “Flask” for designing and coding web application in platform to detect disinformation. • Acquired knowledge, skills, and abilities with competency to deploy containers and do UI/UX design. • Deployed web application using Docker and Kubernetes into internal server. • Explored and learnt Artificial Intelligent domains on task(e.g., Machine Learning, Information Retrieval, Advanced UI).  Monetary Authority of Singapore, IT Network Intern        Feb 2021 – Jul 2021 • Applied JRuby Programming to write Logstash configurations and compile configuration codes.  • Liaised with teams upon collating user requirements.  • Responsible for ELK by parsing logs for 20+ servers, for different teams to see Application logs on shared Grafana page. • Automated logs processing by migrating existing information in new database and assisted to make code efficient.     Monetary Authority of Singapore (MAS), IT Network Intern                                                           Sep 2020 – Feb 2021 • Applied JRuby Programming to write log configurations and compile configuration codes. • Applied Selenium Programming to code and compile scripts for test case writing for 2 webpages. • Revised and enhanced Python Script to download firewall in internal servers. • Raised “CR for Approval” to make changes to DEV & PRD applications and Deploy PRD servers using DevOps.  • Wrote documentation on Logstash.           ACADEMIC PROJECTS  NTU-IEM Design and Innovation Project: Light Tubes (Team Leader of 9 Members)                   • Used Arduino with Raspberry Pi to auto start website when raspberry pi is switched on  • Design, code and build UI interface (React and CSS) to control lights in light tubes.    • Oversaw team progress and handled administrative work like tri-weekly Presentations to module moderator, weekly team meetings, claims, logistics and risk assessment.  NTU-IEM Module: Introduction to Design Project (Team of 2 Members) • Project 1: Successfully utilized C Programming with Unity3D and Blender for designing game.   • Project 2: Used JavaScript servlet, Tomcat and MySQLWorkbench to design and code a “Luxury Furniture e-Store”.   • Project 3: Applied two software programing (i.e., JavaScript, Java [Android Studio]) to design and code Kahoot- Based-Quiz     NYP OSWSD: E-shop Project  • Built a mock hotel website with database, using HTML, CSS, JavaScript and JQuery for User Interface and PHP for Backend • Built wireframe, logo, and website elements for Web, Tablet and Mobile devices using adobe illustrator • Designed website by myself  WORK EXPERIENCE       Nityo 3P Solutions, Executive Administrative Support     Feb 2018 – Jul 2018 • Administered MOM passes (e.g., renewal, application, termination). • Performed daily administration support. • Established and organized central filing system. • Contributed to organizing company events. • Managed company’s accounts payable.  AWARDS / ACHIEVEMENTS  • Silver Awardee (National Youth Business Competition by Ngee Ann Polytechnic 2015) • Social Darling Awardee (National Youth Business Competition by Ngee Ann Polytechnic 2015) • Bronze Awardee (Singapore Mathematics Olympiad 2016) • Proficiency Awardee (Australian Mathematics Competition Intermediate Division 2016) • Leadership Excellence (Sembawang Camp 2019) • Certificate of Recognition (Nanyang Polytechnic: Multimedia & Infocomm Technology Club EXCO 2019)  CO-CURRICULAR ACTIVITIES  Others  Participated in FutureX Hackathon 2022, Overseas Edition 25th- 27th July by NTUC  Participated in CodeEXP Hackathon 2023 by DSTA  Participated in AI & GPT Hackathon 2023 by Moledao  Youth Corps Singapore   Volunteered to aid Seniors to learn Digital Literacy (Digital Learning Circles) 2021  Nanyang Polytechnic     Involved actively in Executive Committee for Multimedia & Infocomm Technology Club  Co-Organizer for Team Bonding Event 2019  Directed Human Resource for Open House 2019; planned and scheduled volunteers from cohort  Facilitated as Student Mentor for SEG Freshman Orientation 2019   Facilitated as Student Mentor for SEG Freshman Orientation 2020  SKILLS   Programming Applications: Visual Studio, Eclipse, Brackets, MySQL, Ansible, Unity3D,  Programming Languages: HTML, CSS3, JavaScript, jQuery, Jinjja, Java, C#, PHP, Asp.Net, Selenium, React, Python  Network Applications: Packet Tracer, VMware Workstation   Network Computers: Ubuntu, Linux, Kali Linux, Windows 10, Windows Server 2012/2016, VMware ESXi  Certificates: AWS Cloud Practioner  Ongoing courses: AWS Solution Architect, PMP (Project Manager Professional), ISC² Cybersecurity  \n"
     ]
    }
   ],
   "source": [
    "print(texti)"
   ]
  },
  {
   "cell_type": "code",
   "execution_count": 16,
   "id": "cbbeadbb-8be2-4814-975b-8270c28aabd9",
   "metadata": {},
   "outputs": [
    {
     "data": {
      "text/html": [
       "<pre style=\"white-space:pre;overflow-x:auto;line-height:normal;font-family:Menlo,'DejaVu Sans Mono',consolas,'Courier New',monospace\">Yap Hui Xin Regine Singaporean Mobile Phone 65 8299 0831 Email regineyap1609 gmail com EDUCATION Nanyang \n",
       "Technological University NTU Aug 2021 Jun 2024 Expected School of Electrical and Electronic Engineering Bachelor of\n",
       "<span style=\"color: #000000; text-decoration-color: #000000; background-color: #ffff00\">Engineering Information Engineering</span> Media Relevant Modules Introduction to Data Science and <span style=\"color: #000000; text-decoration-color: #000000; background-color: #ffff00\">Artificial Intelligence</span>\n",
       "<span style=\"color: #000000; text-decoration-color: #000000; background-color: #ffff00\">Python</span> Oriented Programming Data Structures and Algorithms Microprocessor ARM Nanyang Polytechnic NYP Apr 2018 Apr \n",
       "2021 Diploma in Multimedia and <span style=\"color: #000000; text-decoration-color: #000000; background-color: #ffff00\">Infocomm Technology</span> Specialization Computer Networking <span style=\"color: #000000; text-decoration-color: #000000; background-color: #ffff00\">Relevant Modules Web</span> \n",
       "Development <span style=\"color: #000000; text-decoration-color: #000000; background-color: #ffff00\">Open Source Web</span> <span style=\"color: #000000; text-decoration-color: #000000; background-color: #ffff00\">Development Software Engineering</span> <span style=\"color: #000000; text-decoration-color: #000000; background-color: #ffff00\">Infocomm Systems</span> and <span style=\"color: #000000; text-decoration-color: #000000; background-color: #ffff00\">Security Internet Programming</span> \n",
       "Technology Virtualization and Cloud Computing Database Design and Implementation Router based Network Design and \n",
       "Implementation 10 Broadband Access and <span style=\"color: #000000; text-decoration-color: #000000; background-color: #ffff00\">Wide Area Networks</span> EXPERIENCE Ministry of Home Affairs MHA Engineering \n",
       "Intern Jan 2023 Jul 2023 MHA <span style=\"color: #000000; text-decoration-color: #000000; background-color: #ffff00\">Internship Project Platform</span> Integrated Prototyping Innovation Research 2PiR \n",
       "Successfully collaborated with three team members to build innovation and research platform for quick <span style=\"color: #000000; text-decoration-color: #000000; background-color: #ffff00\">development </span>\n",
       "<span style=\"color: #000000; text-decoration-color: #000000; background-color: #ffff00\">prototyping</span> and testing of new technologies and concepts Built <span style=\"color: #000000; text-decoration-color: #000000; background-color: #ffff00\">intelligent AI Assistant</span> provide intuitive interface\n",
       "for users to interact and <span style=\"color: #000000; text-decoration-color: #000000; background-color: #ffff00\">harness ChatGPT capabilities</span> developed functional prototype Assumed role as Main \n",
       "Developer for integrating frontend to backend using <span style=\"color: #000000; text-decoration-color: #000000; background-color: #ffff00\">APIs</span> Applied Python Python Programming with two frameworks \n",
       "React Flask to design code and <span style=\"color: #000000; text-decoration-color: #000000; background-color: #ffff00\">develop webpage</span> with functionalities intact through continuous testing of widgets \n",
       "and <span style=\"color: #000000; text-decoration-color: #000000; background-color: #ffff00\">chatbot Used VM</span> to bring application onto internal server Learned and explored various advanced and latest \n",
       "technologies to delve into specialized areas and domains of interest Ministry of Home Affairs Disinformation \n",
       "Project Intern May 2022 Jul 2022 MHA Internship Project Development of Application for Detect Disinformation at \n",
       "Real Time Successfully co operated with two team members to build intuitive interface for users to detect \n",
       "disinformation at real time Assumed role as Frontend In Charge to apply software languages HTML CSS <span style=\"color: #000000; text-decoration-color: #000000; background-color: #ffff00\">JavaScript</span> \n",
       "Jinjja with with framework Flask for designing and <span style=\"color: #000000; text-decoration-color: #000000; background-color: #ffff00\">coding web application</span> platform to detect disinformation \n",
       "Acquired knowledge skills and abilities with competency to deploy containers and do UI <span style=\"color: #000000; text-decoration-color: #000000; background-color: #ffff00\">UX design</span> Deployed <span style=\"color: #000000; text-decoration-color: #000000; background-color: #ffff00\">web </span>\n",
       "<span style=\"color: #000000; text-decoration-color: #000000; background-color: #ffff00\">application using</span> and Kubernetes into internal server Explored and learnt Artificial Intelligent domains on task \n",
       "Machine Learning Information Retrieval Advanced UI Monetary Authority of Singapore IT Network Intern Feb 2021 Jul \n",
       "2021 Applied JRuby Programming to write Logstash configurations and compile configuration codes Liaised with teams \n",
       "upon collating user requirements Responsible for ELK by parsing logs for 20 servers for different teams to see \n",
       "Application logs on shared Grafana page Automated logs processing by migrating existing information in new database\n",
       "and assisted to make code efficient Monetary Authority of Singapore MAS IT Network Intern Sep 2020 Feb 2021 Applied\n",
       "JRuby Programming to write log configurations and compile configuration codes Applied Selenium Programming to code \n",
       "and compile scripts for test case writing for webpages Revised and enhanced Python Script to download firewall in \n",
       "internal servers Raised CR for Approval to make changes to DEV PRD applications and Deploy PRD servers using DevOps\n",
       "Wrote documentation on Logstash ACADEMIC PROJECTS NTU IEM Design and Innovation Project Light Tubes Team Leader of \n",
       "Members Used Arduino with Raspberry Pi to auto start website when raspberry pi is switched on Design code and build\n",
       "UI interface React and CSS to control lights in light tubes Oversaw team progress and handled administrative work \n",
       "like tri weekly Presentations to module moderator weekly team meetings claims logistics and risk assessment NTU IEM\n",
       "Module Introduction to Design Project Team of Members Project Successfully utilized Programming with Unity3D and \n",
       "Blender for designing game Project Used <span style=\"color: #000000; text-decoration-color: #000000; background-color: #ffff00\">JavaScript</span> servlet Tomcat Tomcat and MySQLWorkbench to design and code \n",
       "Luxury Furniture Store Project Applied two <span style=\"color: #000000; text-decoration-color: #000000; background-color: #ffff00\">software programing JavaScript</span> Android Studio to design and code Kahoot \n",
       "Based Quiz NYP OSWSD shop Project Built mock hotel website with database using HTML CSS <span style=\"color: #000000; text-decoration-color: #000000; background-color: #ffff00\">JavaScript</span> and JQuery \n",
       "JQuery for User Interface and PHP for Backend Built wireframe logo and website elements for <span style=\"color: #000000; text-decoration-color: #000000; background-color: #ffff00\">Web</span> Tablet and and \n",
       "Mobile devices using adobe illustrator <span style=\"color: #000000; text-decoration-color: #000000; background-color: #ffff00\">Designed website</span> by myself WORK EXPERIENCE Nityo 3P Solutions Executive \n",
       "Administrative Support Feb 2018 Jul 2018 Administered MOM passes renewal application termination Performed daily \n",
       "administration support Established and organized central filing system Contributed to organizing company events \n",
       "Managed company accounts payable AWARDS ACHIEVEMENTS Silver Awardee National Youth Business Competition by Ngee Ann\n",
       "Polytechnic 2015 Social Darling Awardee National Youth Business Competition by Ngee Ann Polytechnic 2015 Bronze \n",
       "Awardee Singapore Mathematics Olympiad 2016 Proficiency Awardee Australian Mathematics Competition Intermediate \n",
       "Division 2016 Leadership Excellence Sembawang Camp 2019 Certificate of Recognition Nanyang <span style=\"color: #000000; text-decoration-color: #000000; background-color: #ffff00\">Polytechnic Multimedia </span>\n",
       "<span style=\"color: #000000; text-decoration-color: #000000; background-color: #ffff00\">Infocomm</span> Club EXCO 2019 CO CURRICULAR ACTIVITIES Others Participated in FutureX Hackathon 2022 Overseas Edition \n",
       "25th 27th July by NTUC Participated in CodeEXP Hackathon 2023 by DSTA Participated in AI GPT Hackathon 2023 by \n",
       "Moledao Youth Corps Singapore Volunteered to aid Seniors to learn Digital Literacy Digital Learning Circles 2021 \n",
       "Nanyang Polytechnic Involved actively in Executive Committee for <span style=\"color: #000000; text-decoration-color: #000000; background-color: #ffff00\">Multimedia Infocomm Technology</span> Co Organizer for \n",
       "Team Bonding Event 2019 Directed Human Resource for Open House 2019 planned and scheduled volunteers from cohort \n",
       "Facilitated as Student Mentor for SEG Freshman Orientation 2019 Facilitated as Student Mentor for SEG Freshman \n",
       "Orientation 2020 SKILLS Programming Applications Visual Studio Eclipse Brackets MySQL Ansible Unity3D Programming \n",
       "Languages HTML CSS3 <span style=\"color: #000000; text-decoration-color: #000000; background-color: #ffff00\">JavaScript</span> jQuery Jinjja Jinjja Java PHP Asp Net Selenium React <span style=\"color: #000000; text-decoration-color: #000000; background-color: #ffff00\">Python Network Applications</span> \n",
       "Tracer VMware Workstation Network Computers Ubuntu Linux Kali Linux Windows 10 Windows Server 2012 2016 VMware ESXi\n",
       "Certificates AWS Cloud Practioner Ongoing courses AWS Solution Architect PMP Project Manager Professional ISC² \n",
       "Cybersecurity\n",
       "</pre>\n"
      ],
      "text/plain": [
       "Yap Hui Xin Regine Singaporean Mobile Phone 65 8299 0831 Email regineyap1609 gmail com EDUCATION Nanyang \n",
       "Technological University NTU Aug 2021 Jun 2024 Expected School of Electrical and Electronic Engineering Bachelor of\n",
       "\u001b[30;48;2;255;255;0mEngineering Information Engineering\u001b[0m Media Relevant Modules Introduction to Data Science and \u001b[30;48;2;255;255;0mArtificial Intelligence\u001b[0m\n",
       "\u001b[30;48;2;255;255;0mPython\u001b[0m Oriented Programming Data Structures and Algorithms Microprocessor ARM Nanyang Polytechnic NYP Apr 2018 Apr \n",
       "2021 Diploma in Multimedia and \u001b[30;48;2;255;255;0mInfocomm Technology\u001b[0m Specialization Computer Networking \u001b[30;48;2;255;255;0mRelevant Modules Web\u001b[0m \n",
       "Development \u001b[30;48;2;255;255;0mOpen Source Web\u001b[0m \u001b[30;48;2;255;255;0mDevelopment Software Engineering\u001b[0m \u001b[30;48;2;255;255;0mInfocomm Systems\u001b[0m and \u001b[30;48;2;255;255;0mSecurity Internet Programming\u001b[0m \n",
       "Technology Virtualization and Cloud Computing Database Design and Implementation Router based Network Design and \n",
       "Implementation 10 Broadband Access and \u001b[30;48;2;255;255;0mWide Area Networks\u001b[0m EXPERIENCE Ministry of Home Affairs MHA Engineering \n",
       "Intern Jan 2023 Jul 2023 MHA \u001b[30;48;2;255;255;0mInternship Project Platform\u001b[0m Integrated Prototyping Innovation Research 2PiR \n",
       "Successfully collaborated with three team members to build innovation and research platform for quick \u001b[30;48;2;255;255;0mdevelopment \u001b[0m\n",
       "\u001b[30;48;2;255;255;0mprototyping\u001b[0m and testing of new technologies and concepts Built \u001b[30;48;2;255;255;0mintelligent AI Assistant\u001b[0m provide intuitive interface\n",
       "for users to interact and \u001b[30;48;2;255;255;0mharness ChatGPT capabilities\u001b[0m developed functional prototype Assumed role as Main \n",
       "Developer for integrating frontend to backend using \u001b[30;48;2;255;255;0mAPIs\u001b[0m Applied Python Python Programming with two frameworks \n",
       "React Flask to design code and \u001b[30;48;2;255;255;0mdevelop webpage\u001b[0m with functionalities intact through continuous testing of widgets \n",
       "and \u001b[30;48;2;255;255;0mchatbot Used VM\u001b[0m to bring application onto internal server Learned and explored various advanced and latest \n",
       "technologies to delve into specialized areas and domains of interest Ministry of Home Affairs Disinformation \n",
       "Project Intern May 2022 Jul 2022 MHA Internship Project Development of Application for Detect Disinformation at \n",
       "Real Time Successfully co operated with two team members to build intuitive interface for users to detect \n",
       "disinformation at real time Assumed role as Frontend In Charge to apply software languages HTML CSS \u001b[30;48;2;255;255;0mJavaScript\u001b[0m \n",
       "Jinjja with with framework Flask for designing and \u001b[30;48;2;255;255;0mcoding web application\u001b[0m platform to detect disinformation \n",
       "Acquired knowledge skills and abilities with competency to deploy containers and do UI \u001b[30;48;2;255;255;0mUX design\u001b[0m Deployed \u001b[30;48;2;255;255;0mweb \u001b[0m\n",
       "\u001b[30;48;2;255;255;0mapplication using\u001b[0m and Kubernetes into internal server Explored and learnt Artificial Intelligent domains on task \n",
       "Machine Learning Information Retrieval Advanced UI Monetary Authority of Singapore IT Network Intern Feb 2021 Jul \n",
       "2021 Applied JRuby Programming to write Logstash configurations and compile configuration codes Liaised with teams \n",
       "upon collating user requirements Responsible for ELK by parsing logs for 20 servers for different teams to see \n",
       "Application logs on shared Grafana page Automated logs processing by migrating existing information in new database\n",
       "and assisted to make code efficient Monetary Authority of Singapore MAS IT Network Intern Sep 2020 Feb 2021 Applied\n",
       "JRuby Programming to write log configurations and compile configuration codes Applied Selenium Programming to code \n",
       "and compile scripts for test case writing for webpages Revised and enhanced Python Script to download firewall in \n",
       "internal servers Raised CR for Approval to make changes to DEV PRD applications and Deploy PRD servers using DevOps\n",
       "Wrote documentation on Logstash ACADEMIC PROJECTS NTU IEM Design and Innovation Project Light Tubes Team Leader of \n",
       "Members Used Arduino with Raspberry Pi to auto start website when raspberry pi is switched on Design code and build\n",
       "UI interface React and CSS to control lights in light tubes Oversaw team progress and handled administrative work \n",
       "like tri weekly Presentations to module moderator weekly team meetings claims logistics and risk assessment NTU IEM\n",
       "Module Introduction to Design Project Team of Members Project Successfully utilized Programming with Unity3D and \n",
       "Blender for designing game Project Used \u001b[30;48;2;255;255;0mJavaScript\u001b[0m servlet Tomcat Tomcat and MySQLWorkbench to design and code \n",
       "Luxury Furniture Store Project Applied two \u001b[30;48;2;255;255;0msoftware programing JavaScript\u001b[0m Android Studio to design and code Kahoot \n",
       "Based Quiz NYP OSWSD shop Project Built mock hotel website with database using HTML CSS \u001b[30;48;2;255;255;0mJavaScript\u001b[0m and JQuery \n",
       "JQuery for User Interface and PHP for Backend Built wireframe logo and website elements for \u001b[30;48;2;255;255;0mWeb\u001b[0m Tablet and and \n",
       "Mobile devices using adobe illustrator \u001b[30;48;2;255;255;0mDesigned website\u001b[0m by myself WORK EXPERIENCE Nityo 3P Solutions Executive \n",
       "Administrative Support Feb 2018 Jul 2018 Administered MOM passes renewal application termination Performed daily \n",
       "administration support Established and organized central filing system Contributed to organizing company events \n",
       "Managed company accounts payable AWARDS ACHIEVEMENTS Silver Awardee National Youth Business Competition by Ngee Ann\n",
       "Polytechnic 2015 Social Darling Awardee National Youth Business Competition by Ngee Ann Polytechnic 2015 Bronze \n",
       "Awardee Singapore Mathematics Olympiad 2016 Proficiency Awardee Australian Mathematics Competition Intermediate \n",
       "Division 2016 Leadership Excellence Sembawang Camp 2019 Certificate of Recognition Nanyang \u001b[30;48;2;255;255;0mPolytechnic Multimedia \u001b[0m\n",
       "\u001b[30;48;2;255;255;0mInfocomm\u001b[0m Club EXCO 2019 CO CURRICULAR ACTIVITIES Others Participated in FutureX Hackathon 2022 Overseas Edition \n",
       "25th 27th July by NTUC Participated in CodeEXP Hackathon 2023 by DSTA Participated in AI GPT Hackathon 2023 by \n",
       "Moledao Youth Corps Singapore Volunteered to aid Seniors to learn Digital Literacy Digital Learning Circles 2021 \n",
       "Nanyang Polytechnic Involved actively in Executive Committee for \u001b[30;48;2;255;255;0mMultimedia Infocomm Technology\u001b[0m Co Organizer for \n",
       "Team Bonding Event 2019 Directed Human Resource for Open House 2019 planned and scheduled volunteers from cohort \n",
       "Facilitated as Student Mentor for SEG Freshman Orientation 2019 Facilitated as Student Mentor for SEG Freshman \n",
       "Orientation 2020 SKILLS Programming Applications Visual Studio Eclipse Brackets MySQL Ansible Unity3D Programming \n",
       "Languages HTML CSS3 \u001b[30;48;2;255;255;0mJavaScript\u001b[0m jQuery Jinjja Jinjja Java PHP Asp Net Selenium React \u001b[30;48;2;255;255;0mPython Network Applications\u001b[0m \n",
       "Tracer VMware Workstation Network Computers Ubuntu Linux Kali Linux Windows 10 Windows Server 2012 2016 VMware ESXi\n",
       "Certificates AWS Cloud Practioner Ongoing courses AWS Solution Architect PMP Project Manager Professional ISC² \n",
       "Cybersecurity\n"
      ]
     },
     "metadata": {},
     "output_type": "display_data"
    }
   ],
   "source": [
    "keywords = kw_model.extract_keywords(texti, \n",
    "\n",
    "                                     keyphrase_ngram_range=(1, 3), \n",
    "\n",
    "                                     stop_words='english', \n",
    "\n",
    "                                     highlight=True,\n",
    "\n",
    "                                     top_n=70)\n",
    "\n"
   ]
  },
  {
   "cell_type": "code",
   "execution_count": 17,
   "id": "d87d89d9-9586-403c-9021-633017f1e175",
   "metadata": {},
   "outputs": [],
   "source": [
    "keywords_list= list(dict(keywords).keys())\n",
    "\n",
    "\n"
   ]
  },
  {
   "cell_type": "code",
   "execution_count": 18,
   "id": "4eec7475-5505-4e1d-b010-e63a02dcca25",
   "metadata": {},
   "outputs": [
    {
     "name": "stdout",
     "output_type": "stream",
     "text": [
      "['web design', 'web application', 'internet programming', 'chatbot', 'coding web', 'chatbot used', 'chatbot used vm', 'develop webpage functionalities', 'widgets chatbot used', 'chatgpt capabilities developed', 'develop webpage', 'coding web application', 'web design development', 'web application platform', 'widgets chatbot', 'webpage functionalities', 'web solutions development', 'intelligent ai assistant', 'security internet programming', 'ai assistant provide', 'designing coding web', 'code develop webpage', 'internet programming network', 'web solutions', 'web application using', 'relevant modules web', 'software engineering', 'ai assistant', 'engineering information engineering', 'website raspberry', 'testing widgets chatbot', 'programming network technology', 'information engineering', 'website raspberry pi', 'artificial intelligence python', 'systems security internet', 'writing webpages', 'modules web design', 'open source web', 'ux design', 'development application', 'development software engineering', 'website work', 'designed website work', 'javascript', 'python network applications', 'design deployed web', 'apis', 'infocomm technology club', 'network applications', 'development prototyping', 'multimedia infocomm', 'harness chatgpt capabilities', 'frontend backend', 'application platform', 'polytechnic multimedia infocomm', 'network technology', 'intelligent ai', 'wide area networks', 'internship project platform', 'multimedia infocomm technology', 'programming frameworks react', 'infocomm technology', 'designed website', 'area networks internship', 'software programing javascript', 'web', 'website work experience', 'infocomm systems', 'security internet']\n"
     ]
    }
   ],
   "source": [
    "print(keywords_list)"
   ]
  },
  {
   "cell_type": "code",
   "execution_count": null,
   "id": "44b384fb-7cfd-4a61-b034-c5614d4d6671",
   "metadata": {},
   "outputs": [],
   "source": []
  },
  {
   "cell_type": "code",
   "execution_count": null,
   "id": "25c6b0f2-d655-48d0-aa81-d5c480eeadc2",
   "metadata": {},
   "outputs": [],
   "source": []
  },
  {
   "cell_type": "code",
   "execution_count": null,
   "id": "455f4eef-c5f2-47e0-8be9-792c5f544025",
   "metadata": {},
   "outputs": [],
   "source": []
  },
  {
   "cell_type": "code",
   "execution_count": null,
   "id": "f03d5344-4335-47e6-90b2-7d8122b52818",
   "metadata": {},
   "outputs": [],
   "source": []
  },
  {
   "cell_type": "code",
   "execution_count": null,
   "id": "59794402-6292-4e88-a9ba-56b84bf59e03",
   "metadata": {},
   "outputs": [],
   "source": []
  },
  {
   "cell_type": "code",
   "execution_count": null,
   "id": "b19d3146-04e7-4cda-a428-2d5ee0e46306",
   "metadata": {},
   "outputs": [],
   "source": []
  },
  {
   "cell_type": "code",
   "execution_count": null,
   "id": "a450febc-e336-42aa-9994-918d77a12506",
   "metadata": {},
   "outputs": [],
   "source": []
  },
  {
   "cell_type": "code",
   "execution_count": null,
   "id": "6fdefcc5-aa1c-4cb1-852f-ababa5a58af5",
   "metadata": {},
   "outputs": [],
   "source": []
  }
 ],
 "metadata": {
  "kernelspec": {
   "display_name": "Python 3 (ipykernel)",
   "language": "python",
   "name": "python3"
  },
  "language_info": {
   "codemirror_mode": {
    "name": "ipython",
    "version": 3
   },
   "file_extension": ".py",
   "mimetype": "text/x-python",
   "name": "python",
   "nbconvert_exporter": "python",
   "pygments_lexer": "ipython3",
   "version": "3.11.7"
  }
 },
 "nbformat": 4,
 "nbformat_minor": 5
}
